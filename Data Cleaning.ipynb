{
 "cells": [
  {
   "cell_type": "code",
   "execution_count": null,
   "id": "e7f22dae",
   "metadata": {},
   "outputs": [],
   "source": [
    "#Import required libraries \n",
    "import pandas as pd\n",
    "import numpy as np\n",
    "import seaborn as sns\n",
    "import matplotlib.pyplot as plt\n",
    "import plotly.express as px"
   ]
  },
  {
   "cell_type": "code",
   "execution_count": null,
   "id": "aebcf977",
   "metadata": {},
   "outputs": [],
   "source": [
    "#Import data\n",
    "df=pd.read_csv('CombinedData_V4.csv')"
   ]
  },
  {
   "cell_type": "code",
   "execution_count": null,
   "id": "5f95a421",
   "metadata": {},
   "outputs": [],
   "source": [
    "#Display Data Attributes\n",
    "print(\"-----------Shape of data--------------\")\n",
    "print(df.shape)\n",
    "print(\"-----------Datatypes for each column------------\")\n",
    "print(df.info())"
   ]
  },
  {
   "cell_type": "code",
   "execution_count": null,
   "id": "0d7d01a8",
   "metadata": {},
   "outputs": [],
   "source": [
    "#Display few rows of data \n",
    "df.head()"
   ]
  },
  {
   "cell_type": "code",
   "execution_count": null,
   "id": "b0d4a964",
   "metadata": {},
   "outputs": [],
   "source": [
    "#Remove appended string values from numeric columns\n",
    "\n",
    "character = [\"$\",\",\",\"+\",\"cars\",\"car\",\"/\",\"mo\",\"sqft\",\"sqft lot\",\"acre\",\"acres\",\"acre lot\",\"lot\"]\n",
    "for char in character:\n",
    "    df['price'] = df['price'].str.replace(char, '', regex=False)\n",
    "    df['sqft'] = df['sqft'].str.replace(char, '', regex=False)\n",
    "    df['price/sqft'] = df['price/sqft'].str.replace(char, '', regex=False)\n",
    "    df['lotsize'] = df['lotsize'].str.replace(char, '', regex=False)\n",
    "    df['median_listing_home_price_persqft'] = df['median_listing_home_price_persqft'].str.replace(char, '', regex=False)\n",
    "    df['median_listing_home_price'] = df['median_listing_home_price'].str.replace(char, '', regex=False)\n",
    "    df['median_sold_home_price'] = df['median_sold_home_price'].str.replace(char, '', regex=False)\n",
    "    df['baths']=df['baths'].str.replace(char,'', regex=False)\n",
    "    df['garage'] = df['garage'].str.replace(char, '', regex=False)\n",
    "    df['hoa'] = df['hoa'].str.replace(char, '', regex=False)"
   ]
  },
  {
   "cell_type": "code",
   "execution_count": null,
   "id": "a165a534",
   "metadata": {},
   "outputs": [],
   "source": [
    "#Replace dash(-,studio) values with appropriate numeric value(0 or null)\n",
    "character =[\"-\",\"Studio\"]\n",
    "for char in character:\n",
    "    df['beds']=df['beds'].str.replace(char,'0')\n",
    "    df['baths']=df['baths'].str.replace(char,'0')\n",
    "    df['sqft']=df['sqft'].replace(char, np.nan)\n",
    "    df['lotsize']=df['lotsize'].replace(char, np.nan)\n",
    "    df['price']=df['price'].replace(char, np.nan)"
   ]
  },
  {
   "cell_type": "code",
   "execution_count": null,
   "id": "bf444873",
   "metadata": {},
   "outputs": [],
   "source": [
    "df.head()"
   ]
  },
  {
   "cell_type": "code",
   "execution_count": null,
   "id": "ed3945b9",
   "metadata": {},
   "outputs": [],
   "source": [
    "#Drop insignificant columns from dataframe\n",
    "df.drop([\"time-on-realtor\"], axis = 1, inplace = True)\n",
    "df.drop([\"median_days_on_market\"], axis = 1, inplace = True)"
   ]
  },
  {
   "cell_type": "code",
   "execution_count": null,
   "id": "a699a693",
   "metadata": {},
   "outputs": [],
   "source": [
    "#Rename some column names to add more meaning to what it represents\n",
    "df = df.rename(columns={\"street-address\":\"street_address\",\"beds\":\"bed\",\"baths\":\"bath\",\"property-type\":\"property_type\",\"hoa\":\"hoa_monthly\",\"price/sqft\":\"price_per_sqft\",\"garage\":\"parking_space\",\"median_listing_home_price\":\"median_home_price\",\"median_sold_home_price\":\"median_selling_price\",\"median_listing_home_price_persqft\":\"mhp_per_sqft\"})"
   ]
  },
  {
   "cell_type": "code",
   "execution_count": null,
   "id": "058a8b8f",
   "metadata": {},
   "outputs": [],
   "source": [
    "df.shape"
   ]
  },
  {
   "cell_type": "code",
   "execution_count": null,
   "id": "f17cef19",
   "metadata": {},
   "outputs": [],
   "source": [
    "#Detect duplicate values\n",
    "duplicaterow = df[df.duplicated()]\n",
    "duplicaterow.count()"
   ]
  },
  {
   "cell_type": "code",
   "execution_count": null,
   "id": "0ad3ddcd",
   "metadata": {},
   "outputs": [],
   "source": [
    "#Remove duplicate values\n",
    "df=df.drop_duplicates()"
   ]
  },
  {
   "cell_type": "code",
   "execution_count": null,
   "id": "d9d8870e",
   "metadata": {},
   "outputs": [],
   "source": [
    "df.shape"
   ]
  },
  {
   "cell_type": "code",
   "execution_count": null,
   "id": "7d7e6e90",
   "metadata": {},
   "outputs": [],
   "source": [
    "#Detect missing values\n",
    "sns.heatmap(df.isnull(), cbar=False)"
   ]
  },
  {
   "cell_type": "code",
   "execution_count": null,
   "id": "e413b64c",
   "metadata": {},
   "outputs": [],
   "source": [
    "#Drop records with missing values for signifcant columns \n",
    "df=df.dropna(subset=['street_address','city','state','zipcode','price','lotsize','sqft','property_type'])\n"
   ]
  },
  {
   "cell_type": "code",
   "execution_count": null,
   "id": "49d2fcd4",
   "metadata": {},
   "outputs": [],
   "source": [
    "#showing number of rows after removing the missing values\n",
    "df.shape"
   ]
  },
  {
   "cell_type": "code",
   "execution_count": null,
   "id": "945b3d18",
   "metadata": {},
   "outputs": [],
   "source": [
    "#Display count of missing values in other columns\n",
    "df.isna().sum()"
   ]
  },
  {
   "cell_type": "code",
   "execution_count": null,
   "id": "df468233",
   "metadata": {},
   "outputs": [],
   "source": [
    "#Change datatype of numeric columns to float\n",
    "\n",
    "df = df.astype({'price':'float','sqft':'float','lotsize':'float','bed':'float','bath':'float','hoa_monthly':'float','price_per_sqft':'float','median_home_price':'float', 'median_selling_price':'float', 'mhp_per_sqft':'float'})"
   ]
  },
  {
   "cell_type": "code",
   "execution_count": null,
   "id": "e78cf1b2",
   "metadata": {},
   "outputs": [],
   "source": [
    "df.info()"
   ]
  },
  {
   "cell_type": "code",
   "execution_count": null,
   "id": "a1dc02fd",
   "metadata": {},
   "outputs": [],
   "source": [
    "#Detecting the outliers\n",
    "display(df.describe())\n"
   ]
  },
  {
   "cell_type": "code",
   "execution_count": null,
   "id": "9e99edb0",
   "metadata": {},
   "outputs": [],
   "source": [
    "#Removing outliers\n",
    "def pruneOutliers(df,col):\n",
    "    quartile_1 = df[col].quantile(0.25)\n",
    "    quartile_3 = df[col].quantile(0.75)\n",
    "    iqr = quartile_3 - quartile_1\n",
    "    ul = quartile_3+1.5*iqr\n",
    "    ll = quartile_1-1.5*iqr\n",
    "    new_df = df[(df[col] > ll) & (df[col] < ul)]\n",
    "    return new_df\n"
   ]
  },
  {
   "cell_type": "code",
   "execution_count": null,
   "id": "9466070b",
   "metadata": {},
   "outputs": [],
   "source": [
    "#Removing Outliers\n",
    "df=pruneOutliers(df,'price')\n",
    "df=pruneOutliers(df,'sqft')\n",
    "df=pruneOutliers(df,'lotsize')\n",
    "df=pruneOutliers(df,'bed')\n",
    "df=pruneOutliers(df,'bath')"
   ]
  },
  {
   "cell_type": "code",
   "execution_count": null,
   "id": "64a3b628",
   "metadata": {},
   "outputs": [],
   "source": [
    "#Box plot after removing the outliers\n",
    "fig = px.box(df, x='price')\n",
    "fig.show()"
   ]
  },
  {
   "cell_type": "code",
   "execution_count": null,
   "id": "5b673a6d",
   "metadata": {},
   "outputs": [],
   "source": [
    "#Box plot after removing the outliers\n",
    "fig = px.box(df, x='sqft')\n",
    "fig.show()"
   ]
  },
  {
   "cell_type": "code",
   "execution_count": null,
   "id": "cd122fe5",
   "metadata": {},
   "outputs": [],
   "source": [
    "#Box plot after removing the outliers\n",
    "fig = px.box(df, x='lotsize')\n",
    "fig.show()"
   ]
  },
  {
   "cell_type": "code",
   "execution_count": null,
   "id": "c16d4519",
   "metadata": {},
   "outputs": [],
   "source": [
    "#Box plot after removing the outliers\n",
    "fig = px.box(df, x='bed')\n",
    "fig.show()"
   ]
  },
  {
   "cell_type": "code",
   "execution_count": null,
   "id": "02951bbc",
   "metadata": {
    "scrolled": true
   },
   "outputs": [],
   "source": [
    "#Box plot after removing the outliers\n",
    "fig = px.box(df, x='bath')\n",
    "fig.show()"
   ]
  },
  {
   "cell_type": "code",
   "execution_count": null,
   "id": "0495ae47",
   "metadata": {},
   "outputs": [],
   "source": [
    "#Converting all the upper cases to lower\n",
    "df['property_type'] = df['property_type'].str.lower()\n",
    "df['broker'] = df['broker'].str.lower()\n",
    "df['city'] = df['city'].str.lower()\n",
    "df['street_address'] = df['street_address'].str.lower()\n",
    "df['school_district'] = df['school_district'].str.lower()"
   ]
  },
  {
   "cell_type": "code",
   "execution_count": null,
   "id": "9bb3808d",
   "metadata": {
    "scrolled": true
   },
   "outputs": [],
   "source": [
    "df"
   ]
  },
  {
   "cell_type": "code",
   "execution_count": null,
   "id": "67dae7be",
   "metadata": {},
   "outputs": [],
   "source": [
    "#df to csv\n",
    "#df.to_csv(r\"/Users/vinaymanchundiya/Desktop/MSBA/BAN612/Project/Submit/cleaneddata.csv\",index=False)"
   ]
  }
 ],
 "metadata": {
  "kernelspec": {
   "display_name": "Python 3 (ipykernel)",
   "language": "python",
   "name": "python3"
  },
  "language_info": {
   "codemirror_mode": {
    "name": "ipython",
    "version": 3
   },
   "file_extension": ".py",
   "mimetype": "text/x-python",
   "name": "python",
   "nbconvert_exporter": "python",
   "pygments_lexer": "ipython3",
   "version": "3.9.7"
  }
 },
 "nbformat": 4,
 "nbformat_minor": 5
}
